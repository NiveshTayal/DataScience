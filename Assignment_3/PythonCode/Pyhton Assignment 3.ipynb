{
  "nbformat": 4,
  "nbformat_minor": 0,
  "metadata": {
    "colab": {
      "name": "Untitled4.ipynb",
      "provenance": []
    },
    "kernelspec": {
      "name": "python3",
      "display_name": "Python 3"
    }
  },
  "cells": [
    {
      "cell_type": "markdown",
      "metadata": {
        "id": "dgOR7WXlYk8T",
        "colab_type": "text"
      },
      "source": [
        "Write a function to compute 5/0 and use try/except to catch the exceptions."
      ]
    },
    {
      "cell_type": "code",
      "metadata": {
        "id": "-vDUbT_ZYU7k",
        "colab_type": "code",
        "colab": {
          "base_uri": "https://localhost:8080/",
          "height": 34
        },
        "outputId": "5847847f-c2ee-4bfc-d69c-5692b8ab72d5"
      },
      "source": [
        "# Divide by zero\n",
        "try:\n",
        "    x = 5 / 0\n",
        "except:\n",
        "    print(\"Error dividing by zero\")"
      ],
      "execution_count": 1,
      "outputs": [
        {
          "output_type": "stream",
          "text": [
            "Error dividing by zero\n"
          ],
          "name": "stdout"
        }
      ]
    },
    {
      "cell_type": "markdown",
      "metadata": {
        "id": "flckG2p6YoiC",
        "colab_type": "text"
      },
      "source": [
        "Implement a Python program to generate all sentences where subject is in [\"Americans\",\n",
        "\"Indians\"] and verb is in [\"Play\", \"watch\"] and the object is in [\"Baseball\",\"cricket\"].\n",
        "Hint: Subject,Verb and Object should be declared in the program as shown below.\n",
        "subjects=[\"Americans \",\"Indians\"]\n",
        "verbs=[\"play\",\"watch\"]\n",
        "objects=[\"Baseball\",\"Cricket\"]\n"
      ]
    },
    {
      "cell_type": "code",
      "metadata": {
        "id": "Nse4dI0fZj6F",
        "colab_type": "code",
        "colab": {
          "base_uri": "https://localhost:8080/",
          "height": 153
        },
        "outputId": "31ad1b60-6a8f-445a-e8e4-7c49529d5ccc"
      },
      "source": [
        "subject=[\"Americans\", \"Indians\"]\n",
        "verb=[\"Play\", \"watch\"]\n",
        "obj=[\"Baseball\",\"cricket\"]\n",
        "# Use list comprehension\n",
        "sentence_list = [(sub+\" \"+ vb + \" \" + ob) for sub in subject for vb in verb for ob in obj]\n",
        "for sentence in sentence_list:\n",
        " print (sentence)"
      ],
      "execution_count": 2,
      "outputs": [
        {
          "output_type": "stream",
          "text": [
            "Americans Play Baseball\n",
            "Americans Play cricket\n",
            "Americans watch Baseball\n",
            "Americans watch cricket\n",
            "Indians Play Baseball\n",
            "Indians Play cricket\n",
            "Indians watch Baseball\n",
            "Indians watch cricket\n"
          ],
          "name": "stdout"
        }
      ]
    },
    {
      "cell_type": "markdown",
      "metadata": {
        "id": "TmP4AwVLasPe",
        "colab_type": "text"
      },
      "source": [
        "Write a function so that the columns of the output matrix are powers of the input vector.\n",
        "The order of the powers is determined by the increasing boolean argument. Specifically, when\n",
        "increasing is False, the i-th output column is the input vector raised element-wise to the power\n",
        "of N - i - 1.\n",
        "HINT: Such a matrix with a geometric progression in each row is named for AlexandreTheophile Vandermonde.\n"
      ]
    },
    {
      "cell_type": "code",
      "metadata": {
        "id": "qckTS_Zzas_i",
        "colab_type": "code",
        "colab": {
          "base_uri": "https://localhost:8080/",
          "height": 85
        },
        "outputId": "2671db9e-af5b-49b4-d1d2-865060fb076e"
      },
      "source": [
        "import numpy as np\n",
        "x = np.array([2,3,4,1])\n",
        "n = 6\n",
        "\n",
        "np.vander(x,n)"
      ],
      "execution_count": 3,
      "outputs": [
        {
          "output_type": "execute_result",
          "data": {
            "text/plain": [
              "array([[  32,   16,    8,    4,    2,    1],\n",
              "       [ 243,   81,   27,    9,    3,    1],\n",
              "       [1024,  256,   64,   16,    4,    1],\n",
              "       [   1,    1,    1,    1,    1,    1]])"
            ]
          },
          "metadata": {
            "tags": []
          },
          "execution_count": 3
        }
      ]
    }
  ]
}